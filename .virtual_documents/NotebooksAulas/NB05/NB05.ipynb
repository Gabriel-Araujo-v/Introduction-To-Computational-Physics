






































import numpy as np
import matplotlib.pyplot as plt
import random
from matplotlib.animation import FuncAnimation


def direct_pi(N):
    N_hits = 0  # Inicializa o número de acertos
    
    for _ in range(N):
        # Gera x e y aleatórios no intervalo (-1, 1)
        x = random.uniform(-1, 1)
        y = random.uniform(-1, 1)
        
        # Verifica se o ponto (x, y) está dentro do círculo de raio 1
        if x**2 + y**2 <= 1:
            N_hits += 1  # Incrementa o número de acertos
    
    return N_hits


# Parâmetros da simulação
N = 400  # Número de amostras

# Inicializa as variáveis
N_hits = 0
x_pontos = []
y_pontos = []
estimativas_pi = []

# Configuração da figura e dos eixos
fig, axes = plt.subplots(1, 2, figsize=(10, 5))

# Define o círculo para plotagem
theta = np.linspace(0, 2 * np.pi, 100)
circle_x = np.cos(theta)
circle_y = np.sin(theta)

# Plot à esquerda: configuração inicial
axes[0].plot(circle_x, circle_y, color='blue')  # Círculo
scatter = axes[0].scatter([], [], color='gray', s=5)  # Pontos anteriores em cinza
ultimo_ponto = axes[0].scatter([], [], color='red', s=20)  # Último ponto em vermelho
axes[0].set_xlim(-1, 1)
axes[0].set_ylim(-1, 1)
axes[0].set_aspect('equal')
axes[0].set_title("Amostragem Direta no Círculo")

# Plot à direita: configuração inicial
linha_pi, = axes[1].plot([], [], color='blue')
linha_pi_verdadeiro = axes[1].axhline(y=np.pi, color='red', linestyle='--', label='$\pi$ = 3.1415...')
axes[1].set_xlim(0, N)
axes[1].set_ylim(2, 4)
axes[1].set_xlabel('Número de Amostras')
axes[1].set_ylabel('Estimativa de $\pi$')
axes[1].legend()

def init():
    return scatter, ultimo_ponto, linha_pi

# Função de atualização da animação
def animate_direct(i):
    global N_hits

    # Gera x e y aleatórios no intervalo (-1, 1)
    x = random.uniform(-1, 1)
    y = random.uniform(-1, 1)
    x_pontos.append(x)
    y_pontos.append(y)

    # Verifica se o ponto (x, y) está dentro do círculo de raio 1
    if x**2 + y**2 <= 1:
        N_hits += 1

    # Calcula a estimativa atual de pi
    estimativa_pi = 4 * N_hits / (i + 1)
    estimativas_pi.append(estimativa_pi)

    # Atualiza os pontos do gráfico
    scatter.set_offsets(np.c_[x_pontos[:-1], y_pontos[:-1]])  # Pontos anteriores em cinza
    ultimo_ponto.set_offsets([[x, y]])  # Último ponto em vermelho


    # Atualiza o gráfico de estimativa de pi
    linha_pi.set_data(range(1, i + 2), estimativas_pi)

    # Atualiza o título do gráfico à direita
    axes[1].set_title(f"Estimativa de $\pi$: {estimativa_pi:.5f}")

    return scatter, ultimo_ponto, linha_pi

# Cria a animação
anim = FuncAnimation(fig, animate_direct, init_func=init, frames=N, interval=50, blit=True)

# Salva como GIF
anim.save('img/direct_pi.gif', writer='pillow', fps=20)

plt.close(fig) 





# Parâmetros de testes
N_values = [400, 4000, 40000]
samples = 1000
pi_estimates = {N: [] for N in N_values}

# Gera amostras para cada valor de N
for N in N_values:
    for _ in range(samples):
        pi_estimates[N].append(4*direct_pi(N)/N)


# Cria o histograma para os diferentes casos de N
plt.figure(figsize=(10, 6))

plt.grid(True)
for N in N_values:
    plt.hist(pi_estimates[N], bins=30, alpha=0.6, label=f'N={N}, Pi estimado={sum(pi_estimates[N])/samples:.5f}')

plt.title('Estimativa de Pi com diferentes valores de N')
plt.xlabel('Valor estimado de Pi')
plt.ylabel('Frequência')
plt.legend()
plt.savefig('img/direct_sample.png')








def markov_pi(N, delta):
    N_hits = 0
    x, y = 1, 1  # Posição inicial

    for i in range(N):
        # Gerar número aleatórios x and y dentro dos limites [-delta, delta]
        delta_x = random.uniform(-delta, delta)
        delta_y = random.uniform(-delta, delta)

        # Verificar se as posições estão dentro dos limites do quadrado
        if (abs(x + delta_x) < 1) and (abs(y + delta_y) < 1):
            x += delta_x
            y += delta_y

        # Verificar se as posições estão dentro 
        if ((x**2 + y**2) < 1):
            N_hits += 1

    return N_hits


# Parâmetros da simulação
N = 400  # Número de passos
x, y = 1.0, 1.0  # Posição inicial
delta = 0.3

# Inicializa as variáveis
x_pontos = [x]
y_pontos = [y]
estimativas_pi = []
N_hits = 0

# Configuração da figura e dos eixos
fig, axes = plt.subplots(1, 2, figsize=(10, 5))

# Define o círculo para plotagem
theta = np.linspace(0, 2 * np.pi, 100)
circle_x = np.cos(theta)
circle_y = np.sin(theta)

# Plot à esquerda: configuração inicial
axes[0].plot(circle_x, circle_y, color='blue')  # Círculo
trajetoria, = axes[0].plot([], [], color='gray', linestyle='-', linewidth=1)  # Trajetória cinza
ultimo_ponto = axes[0].scatter([], [], color='red', s=20)  # Último ponto em vermelho
axes[0].set_xlim(-1, 1)
axes[0].set_ylim(-1, 1)
axes[0].set_aspect('equal')
axes[0].set_title("Cadeia de Markov no Círculo")

# Plot à direita: configuração inicial
linha_pi, = axes[1].plot([], [], color='blue')
linha_pi_verdadeiro = axes[1].axhline(y=np.pi, color='red', linestyle='--', label='$\pi$ Verdadeiro')
axes[1].set_xlim(0, N)
axes[1].set_ylim(0, 4)
axes[1].set_xlabel('Número de Passos')
axes[1].set_ylabel('Estimativa de $\pi$')
axes[1].legend()

def init():
    return trajetoria, ultimo_ponto, linha_pi

# Função de atualização da animação
def animate_markov(frame):
    global x, y, N_hits

    # Gerar número aleatórios x and y dentro dos limites [-delta, delta]
    delta_x = random.uniform(-delta, delta)
    delta_y = random.uniform(-delta, delta)
    # Verificar se as posições estão dentro dos limites do quadrado
    if (abs(x + delta_x) < 1) and (abs(y + delta_y) < 1):
        x += delta_x
        y += delta_y

    # Adiciona os novos pontos
    x_pontos.append(x)
    y_pontos.append(y)

    # Verifica se o ponto está dentro do círculo
    if x**2 + y**2 <= 1:
        N_hits += 1

    # Calcula a estimativa atual de pi
    estimativa_pi = 4 * N_hits / (frame + 1)
    estimativas_pi.append(estimativa_pi)

    # Atualiza a trajetória no gráfico
    trajetoria.set_data(x_pontos[:-1], y_pontos[:-1])  # Trajetória em cinza
    ultimo_ponto.set_offsets([[x, y]])  # Último ponto em vermelho

    # Atualiza o gráfico de estimativa de pi
    linha_pi.set_data(range(1, frame + 2), estimativas_pi)

    # Atualiza o título do gráfico à direita
    axes[1].set_title(f"Estimativa de $\pi$: {estimativa_pi:.5f}")

    return trajetoria, ultimo_ponto, linha_pi

# Cria a animação
anim = FuncAnimation(fig, animate_markov, init_func=init, frames=N, interval=50, blit=True)

# Salva como GIF
anim.save('img/markov_pi.gif', writer='pillow', fps=20)

plt.close(fig) 





# Parâmetros de testes
N_values = [400, 4000, 40000]
samples = 1000
delta = 0.3
pi_estimates_markov = {N: [] for N in N_values}

# Gera amostras para cada valor de N
for N in N_values:
    for _ in range(samples):
        pi_estimates_markov[N].append(4*markov_pi(N, delta)/N)


# Cria o histograma para os diferentes casos de N
plt.figure(figsize=(10, 6))

for N in N_values:
    plt.hist(pi_estimates_markov[N], bins=30, alpha=0.6, label=f'N={N}, Pi estimado={sum(pi_estimates_markov[N])/samples:.5f}')

plt.title('Estimativa de Pi com Markov Chain e diferentes valores de N')
plt.xlabel('Valor estimado de Pi')
plt.ylabel('Frequência')
plt.legend()
plt.grid(True)
plt.savefig('img/markov_sample.png')




















import numpy as np
from matplotlib.animation import FuncAnimation

# Parâmetros do experimento
N = 200  # Número de agulhas
l = 1.0  # Comprimento das agulhas
d = 1.0  # Distâncias entre as linhas no piso

# Tamanho do piso
l_x = 30   # range em x de 0 a 30
l_y = 10   # range em y de 0 a 10
n_lines = int(l_y / d)  # Número de linhas no píso


# Cria todos o dado antecipadamente
np.random.seed(0)  # Fixa a semente aleatória para aleatoridade
x0_all = np.random.uniform(0, l_x, N)
y0_all = np.random.uniform(0, l_y, N)
theta_all = np.random.uniform(0, np.pi, N)


# Transforma x_center para y_center para tips e tails para o plot
x1_all = x0_all + (l / 2) * np.cos(theta_all)
y1_all = y0_all + (l / 2) * np.sin(theta_all)
x2_all = x0_all - (l / 2) * np.cos(theta_all)
y2_all = y0_all - (l / 2) * np.sin(theta_all)

# verifica intersseções
crosses_all = np.floor(y1_all / d) != np.floor(y2_all / d)


N_cumulative = []
pi_estimates = []
trials = []

# Define parâmetros dos objetos e das figuras
fig_width = 8
needle_plot_height = fig_width*(l_y/l_x) 
pi_plot_height = 2
total_height = needle_plot_height + pi_plot_height

fig = plt.figure(figsize=(fig_width, total_height), constrained_layout=True)
gs = fig.add_gridspec(2, 1, height_ratios=[needle_plot_height, pi_plot_height])

# Figura 1: Agilhas no piso
ax1 = fig.add_subplot(gs[0])
ax1.set_aspect('equal')
# Plot das linhass no piso
for k in range(n_lines + 1):
    ax1.axhline(k * d, color='k', linewidth=0.5)
ax1.set_xlim(0, l_x)
ax1.set_ylim(0, l_y)
ax1.set_title("Simulação das agulhas de Buffon")
ax1.set_xlabel("X")
ax1.set_ylabel("Y")
ax1.margins(0)

# Figura 2: Estimativa de pi como função do número de agulhas
ax2 = fig.add_subplot(gs[1])
ax2.set_xlabel('Número de amostras')
ax2.set_ylabel('$\pi$ (Estimado)')
ax2.set_title("Estimativa de $\pi$")
ax2.axhline(np.pi, color='r', linestyle='--', label='Valor de $\pi$')
ax2.legend()
ax2.grid(True)
ax2.margins(0)

needle_lines = []
pi_line, = ax2.plot([], [], label='Estimated $\pi$')

def init():
    return needle_lines + [pi_line]

# define o plot para a i-ésima agulha
def animate(i):
    x1 = x1_all[i]
    y1 = y1_all[i]
    x2 = x2_all[i]
    y2 = y2_all[i]
    crosses = crosses_all[i]
    
    color = 'red' if crosses else 'blue'
    line, = ax1.plot([x1, x2], [y1, y2], color)
    needle_lines.append(line)
    
    # Update do valor estima de PI
    if len(N_cumulative) == 0:
        N_cumulative.append(int(crosses))
    else:
        N_cumulative.append(N_cumulative[-1] + int(crosses))
    trials.append(i + 1)
    with np.errstate(divide='ignore', invalid='ignore'):
        pi_estimate = (2 * l * trials[-1]) / (d * N_cumulative[-1])
    pi_estimates.append(pi_estimate)
    
    pi_line.set_data(trials, pi_estimates)
    ax2.set_xlim(0, N)
    ax2.set_ylim(0, max(4, max(pi_estimates) + 0.5))
    
    return needle_lines + [pi_line]

anim = FuncAnimation(fig, animate, init_func=init, frames=N, interval=50, blit=True)

anim.save('./img/buffon_needle_simulation.gif', writer='pillow', fps=20)

plt.close(fig) 





import math

def direct_needle(N, a, b):
    N_hits = 0  # Inicializa o contador de interseções

    for i in range(N):  # Itera de 1 a N
        x_center = random.uniform(0, b/2)  # Gera x_center aleatório no intervalo [0, b/2]
        phi = random.uniform(0, math.pi/2)  # Gera phi aleatório no intervalo [0, pi/2]
        x_tip = x_center - (a/2) * math.cos(phi)  # Calcula x_tip

        if x_tip < 0:  # Verifica se a agulha cruzou uma linha
            N_hits += 1  # Incrementa o contador de interseções

    return N_hits  # Retorna o número de interseções


# Parâmetros de teste
N_values = [400, 4000, 40000]
a = 1.0
b = 1.0
samples = 1000
pi_estimates_needle = {N: [] for N in N_values}

# Gera amostras para cada valor de N utilizando o método Markov Chain
for N in N_values:
    for _ in range(samples):
        pi_estimates_needle[N].append((2*a*N)/(b*direct_needle(N, a, b)))


# Cria o histograma para os diferentes casos de N
plt.figure(figsize=(10, 6))

for N in N_values:
    plt.hist(pi_estimates_needle[N], bins=30, alpha=0.6, label=f'N={N}, Pi estimado={sum(pi_estimates_needle[N])/samples:.5f}')

plt.title('Estimativa de Pi com as agulhas de Buffon e diferentes valores de N')
plt.xlabel('Valor estimado de Pi')
plt.ylabel('Frequência')
plt.legend()
plt.grid(True)
plt.savefig('img/direct_needle_sample.png')





def direct_needle(N, a, b):
    N_hits = 0
    
    
    for i in range(N):  # Itera de 1 a N
        x_center = random.uniform(0, b/2)  # Gera x_center aleatório no intervalo [0, b/2]
        Gamma = 10
        while Gamma > 1:
            delta_x = random.uniform(0, 1)  # Gera delta_x aleatório no intervalo [0, 1]
            delta_y = random.uniform(0, 1)  # Gera delta_y aleatório no intervalo [0, 1]
        
            # Calcula Gamma
            Gamma = math.sqrt(delta_x**2 + delta_y**2)
        
        # Calcula x_tip
        x_tip = x_center - (a/2) * (delta_x / Gamma)
           
        # Verifica se houve uma interseção
        if x_tip < 0:
            N_hits = N_hits + 1
        
    return N_hits  # Retorna o número de interseções


# Parâmetros de teste
N_values = [400, 4000, 40000]
a = 1.0
b = 1.0
samples = 1000
pi_estimates_needle = {N: [] for N in N_values}

# Gera amostras para cada valor de N utilizando o método Markov Chain
for N in N_values:
    for _ in range(samples):
        pi_estimates_needle[N].append((2*a*N)/(b*direct_needle(N, a, b)))


# Cria o histograma para os diferentes casos de N
plt.figure(figsize=(10, 6))

for N in N_values:
    plt.hist(pi_estimates_needle[N], bins=30, alpha=0.6, label=f'N={N}, Pi estimado={sum(pi_estimates_needle[N])/samples:.5f}')

plt.title('Estimativa de Pi com as agulhas de Buffon e diferentes valores de N')
plt.xlabel('Valor estimado de Pi')
plt.ylabel('Frequência')
plt.legend()
plt.grid(True)
plt.savefig('img/direct_pebble_needle_sample.png')



