




















import numpy as np
import matplotlib.pyplot as plt
get_ipython().run_line_magic("matplotlib", " inline")

import random
from matplotlib.animation import FuncAnimation


# Função para o algoritmo 'transfer-matrix'
def transfer_matrix(M, P_i):
    '''
        M é a matriz de transferênccia definida externamente
        P_i é a posição inicial da partícula
    '''
    Pi_next = np.zeros_like(P_i)
    for a in range(9):
        for b in range(9):
            Pi_next[a] += M[b, a] * P_i[b]
    return Pi_next


# Matriz de transferência
M = np.array([
    [ 1/2, 1/4,   0, 1/4,   0,   0,   0,   0,   0],
    [ 1/4, 1/4, 1/4,   0, 1/4,   0,   0,   0,   0],
    [   0, 1/4, 1/2,   0,   0, 1/4,   0,   0,   0],
    [ 1/4,   0,   0, 1/4, 1/4,   0, 1/4,   0,   0],
    [   0, 1/4,   0, 1/4,   0, 1/4,   0, 1/4,   0],
    [   0,   0, 1/4,   0, 1/4, 1/4,   0,   0, 1/4],
    [   0,   0,   0, 1/4,   0,   0, 1/2, 1/4,   0],
    [   0,   0,   0,   0, 1/4,   0, 1/4, 1/4, 1/4],
    [   0,   0,   0,   0,   0, 1/4,   0, 1/4, 1/2]
])


# Inicialização do vetor de probabilidade inicial
pi_initial = np.zeros(9)
pi_initial[8] = 1  # A partícula começa na posição 9

# Vetor de probabilidade para cada iteração
pi_current = pi_initial.copy()
iterations = 35

# Armazenar os resultados para o plot
pi_history = np.zeros((iterations, 9))
pi_history[0] = pi_current

# Iterar o algoritmo de Monte Carlo utilizando a matriz de transição
for i in range(1, iterations):
    pi_current = transfer_matrix(M, pi_current)
    pi_history[i] = pi_current


# Plot da figura para comparar o decaimento da probabilidade
i_values = np.arange(iterations)
prob_shifted = 1/9 - pi_history[:, 0]  # Probabilidade em 1/9 - pi^(i)(1)
exact_decay = (0.75) ** i_values  # Decaimento exato teórico

plt.figure(figsize=(6, 4))
plt.plot(i_values, prob_shifted, label='Exact', lw=1.5)
plt.plot(i_values, exact_decay, label='(0.75)^i', linestyle='--')
plt.yscale('log')
plt.xlabel('iteration $i$')
plt.ylabel('prob. (shifted) $1/9 - P^i(1)$')
plt.legend()
plt.tight_layout()
plt.savefig('img/transfer_matrix_convergence.png')
plt.close()








autovalores, _ = np.linalg.eig(M)
print(np.sort(autovalores)[::-1])









